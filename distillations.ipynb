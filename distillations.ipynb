{
  "nbformat": 4,
  "nbformat_minor": 0,
  "metadata": {
    "colab": {
      "name": "CMPE257-distillations.ipynb",
      "provenance": [],
      "toc_visible": true,
      "authorship_tag": "ABX9TyP9YOLUEYMR4sVnzr2D+UeW",
      "include_colab_link": true
    },
    "kernelspec": {
      "name": "python3",
      "display_name": "Python 3"
    }
  },
  "cells": [
    {
      "cell_type": "markdown",
      "metadata": {
        "id": "view-in-github",
        "colab_type": "text"
      },
      "source": [
        "<a href=\"https://colab.research.google.com/github/Wayne122/CMPE257/blob/main/distillations.ipynb\" target=\"_parent\"><img src=\"https://colab.research.google.com/assets/colab-badge.svg\" alt=\"Open In Colab\"/></a>"
      ]
    },
    {
      "cell_type": "markdown",
      "metadata": {
        "id": "N5el85kfJ7Ov"
      },
      "source": [
        "# CMPE257 - Distillations\n",
        "\n",
        "## Requests/Intent\n",
        "\n",
        "## Team Blastoff\n",
        "\n",
        "Han-Wei Lin\n",
        "\n",
        "Sheetal Narvekar\n",
        "\n",
        "Roger Navarro\n",
        "\n",
        "Dataset: http://www.thetrumparchive.com/\n",
        "\n"
      ]
    },
    {
      "cell_type": "markdown",
      "metadata": {
        "id": "TjnAo4AEBxSh"
      },
      "source": [
        "### Take a look at the data"
      ]
    },
    {
      "cell_type": "code",
      "metadata": {
        "id": "K5CRi6vCJ6YM",
        "outputId": "2e604684-d370-41f6-928f-00fd43749590",
        "colab": {
          "base_uri": "https://localhost:8080/",
          "height": 206
        }
      },
      "source": [
        "import pandas as pd\n",
        "df_tweets = pd.read_csv('tweets_10-17-2020.csv')\n",
        "df_tweets.tail()"
      ],
      "execution_count": null,
      "outputs": [
        {
          "output_type": "execute_result",
          "data": {
            "text/html": [
              "<div>\n",
              "<style scoped>\n",
              "    .dataframe tbody tr th:only-of-type {\n",
              "        vertical-align: middle;\n",
              "    }\n",
              "\n",
              "    .dataframe tbody tr th {\n",
              "        vertical-align: top;\n",
              "    }\n",
              "\n",
              "    .dataframe thead th {\n",
              "        text-align: right;\n",
              "    }\n",
              "</style>\n",
              "<table border=\"1\" class=\"dataframe\">\n",
              "  <thead>\n",
              "    <tr style=\"text-align: right;\">\n",
              "      <th></th>\n",
              "      <th>id</th>\n",
              "      <th>text</th>\n",
              "      <th>isRetweet</th>\n",
              "      <th>device</th>\n",
              "      <th>favorites</th>\n",
              "      <th>retweets</th>\n",
              "      <th>date</th>\n",
              "    </tr>\n",
              "  </thead>\n",
              "  <tbody>\n",
              "    <tr>\n",
              "      <th>54185</th>\n",
              "      <td>1212166009446162432</td>\n",
              "      <td>RT @heatherjones333: MAGNIFICENT TRUMP- KEEPIN...</td>\n",
              "      <td>t</td>\n",
              "      <td>Twitter for iPhone</td>\n",
              "      <td>0</td>\n",
              "      <td>7171</td>\n",
              "      <td>2020-01-01 12:17:52</td>\n",
              "    </tr>\n",
              "    <tr>\n",
              "      <th>54186</th>\n",
              "      <td>1212165377477750786</td>\n",
              "      <td>RT @heatherjones333: 🔥🔥🔥🔥🔥Lindsey Graham: Trum...</td>\n",
              "      <td>t</td>\n",
              "      <td>Twitter for iPhone</td>\n",
              "      <td>0</td>\n",
              "      <td>7393</td>\n",
              "      <td>2020-01-01 12:15:21</td>\n",
              "    </tr>\n",
              "    <tr>\n",
              "      <th>54187</th>\n",
              "      <td>1212165225748803585</td>\n",
              "      <td>RT @heatherjones333: Congratulations Sleepy Jo...</td>\n",
              "      <td>t</td>\n",
              "      <td>Twitter for iPhone</td>\n",
              "      <td>0</td>\n",
              "      <td>7953</td>\n",
              "      <td>2020-01-01 12:14:45</td>\n",
              "    </tr>\n",
              "    <tr>\n",
              "      <th>54188</th>\n",
              "      <td>1212165147902578688</td>\n",
              "      <td>RT @heatherjones333: DEAR STUPID PEOPLE- PEACE...</td>\n",
              "      <td>t</td>\n",
              "      <td>Twitter for iPhone</td>\n",
              "      <td>0</td>\n",
              "      <td>8963</td>\n",
              "      <td>2020-01-01 12:14:26</td>\n",
              "    </tr>\n",
              "    <tr>\n",
              "      <th>54189</th>\n",
              "      <td>1212165019053494272</td>\n",
              "      <td>RT @heatherjones333: 'We Have Taken Appropriat...</td>\n",
              "      <td>t</td>\n",
              "      <td>Twitter for iPhone</td>\n",
              "      <td>0</td>\n",
              "      <td>5948</td>\n",
              "      <td>2020-01-01 12:13:56</td>\n",
              "    </tr>\n",
              "  </tbody>\n",
              "</table>\n",
              "</div>"
            ],
            "text/plain": [
              "                        id  ...                 date\n",
              "54185  1212166009446162432  ...  2020-01-01 12:17:52\n",
              "54186  1212165377477750786  ...  2020-01-01 12:15:21\n",
              "54187  1212165225748803585  ...  2020-01-01 12:14:45\n",
              "54188  1212165147902578688  ...  2020-01-01 12:14:26\n",
              "54189  1212165019053494272  ...  2020-01-01 12:13:56\n",
              "\n",
              "[5 rows x 7 columns]"
            ]
          },
          "metadata": {
            "tags": []
          },
          "execution_count": 25
        }
      ]
    },
    {
      "cell_type": "markdown",
      "metadata": {
        "id": "KiEo5b4aBzsV"
      },
      "source": [
        "### Import stopwords from nltk"
      ]
    },
    {
      "cell_type": "code",
      "metadata": {
        "id": "SUFReHseMgvt",
        "outputId": "585f6730-98da-400b-c87a-0fa5cc2b44bd",
        "colab": {
          "base_uri": "https://localhost:8080/",
          "height": 72
        }
      },
      "source": [
        "import nltk\n",
        "nltk.download('stopwords')"
      ],
      "execution_count": null,
      "outputs": [
        {
          "output_type": "stream",
          "text": [
            "[nltk_data] Downloading package stopwords to /root/nltk_data...\n",
            "[nltk_data]   Package stopwords is already up-to-date!\n"
          ],
          "name": "stdout"
        },
        {
          "output_type": "execute_result",
          "data": {
            "text/plain": [
              "True"
            ]
          },
          "metadata": {
            "tags": []
          },
          "execution_count": 20
        }
      ]
    },
    {
      "cell_type": "markdown",
      "metadata": {
        "id": "T_BYQEpWB27h"
      },
      "source": [
        "### Import packages needed and preprocess the data"
      ]
    },
    {
      "cell_type": "code",
      "metadata": {
        "id": "UBd7hs5UL7za"
      },
      "source": [
        "from nltk.corpus import stopwords"
      ],
      "execution_count": null,
      "outputs": []
    },
    {
      "cell_type": "code",
      "metadata": {
        "id": "ascd4NemMioW"
      },
      "source": [
        "from sklearn.feature_extraction.text import CountVectorizer\n",
        "from gensim.corpora import Dictionary\n",
        "from gensim.models.ldamodel import LdaModel\n",
        "from gensim.models import CoherenceModel\n",
        "from nltk.corpus import stopwords\n",
        "from nltk.tokenize import RegexpTokenizer\n",
        "from datetime import datetime\n",
        "import pandas as pd\n",
        "import re\n",
        "import math"
      ],
      "execution_count": null,
      "outputs": []
    },
    {
      "cell_type": "code",
      "metadata": {
        "id": "BWGraXiDMu4n",
        "outputId": "7810830f-dc1e-4a93-e451-bb05c66c6316",
        "colab": {
          "base_uri": "https://localhost:8080/",
          "height": 293
        }
      },
      "source": [
        "def clean_tweets(df=df_tweets, \n",
        "                 tweet_col='text', \n",
        "                 date_col='date',\n",
        "                 start_datetime=datetime(2017,1,20, 0, 0, 0)\n",
        "                ):\n",
        "    \n",
        "    df_copy = df.copy()\n",
        "    \n",
        "    # drop rows with empty values\n",
        "    df_copy.dropna(inplace=True)\n",
        "    \n",
        "    # format the date\n",
        "    df_copy[date_col] = df_copy[date_col].apply(lambda row: datetime.strptime(row, '%Y-%m-%d %H:%M:%S'))\n",
        "    \n",
        "    # filter rows older than a given date\n",
        "    df_copy = df_copy[df_copy[date_col] >=start_datetime]\n",
        "    \n",
        "    # lower the tweets\n",
        "    df_copy['preprocessed_' + tweet_col] = df_copy[tweet_col].str.lower()\n",
        "    \n",
        "    # filter out stop words and URLs\n",
        "    en_stop_words = set(stopwords.words('english'))\n",
        "    extended_stop_words = en_stop_words | \\\n",
        "                        {\n",
        "                            '&amp;', 'rt', '@realdonaldtrump', 'realdonaldtrump', # adding @realdonaldtrump to the list\n",
        "                            'th','co', 're', 've', 'kim', 'daca'\n",
        "                        }\n",
        "    url_re = '(https?:\\/\\/(?:www\\.|(?!www))[a-zA-Z0-9][a-zA-Z0-9-]+[a-zA-Z0-9]\\.[^\\s]{2,}|www\\.[a-zA-Z0-9][a-zA-Z0-9-]+[a-zA-Z0-9]\\.[^\\s]{2,}|https?:\\/\\/(?:www\\.|(?!www))[a-zA-Z0-9]+\\.[^\\s]{2,}|www\\.[a-zA-Z0-9]+\\.[^\\s]{2,})'        \n",
        "    df_copy['preprocessed_' + tweet_col] = df_copy['preprocessed_' + tweet_col].apply(lambda row: ' '.join([word for word in row.split() if (word not in extended_stop_words) and (not re.match(url_re, word))]))\n",
        "    \n",
        "    # tokenize the tweets\n",
        "    tokenizer = RegexpTokenizer('[a-zA-Z]\\w+\\'?\\w*')\n",
        "    df_copy['tokenized_' + tweet_col] = df_copy['preprocessed_' + tweet_col].apply(lambda row: tokenizer.tokenize(row))\n",
        "    \n",
        "    return df_copy\n",
        "\n",
        "\n",
        "df_tweets = pd.read_csv('tweets_10-17-2020.csv')\n",
        "df_tweets = df_tweets[df_tweets.isRetweet=='f']  # Exclude retweets\n",
        "df_tweets_clean = clean_tweets(df_tweets)\n",
        "df_tweets_clean.head()"
      ],
      "execution_count": null,
      "outputs": [
        {
          "output_type": "execute_result",
          "data": {
            "text/html": [
              "<div>\n",
              "<style scoped>\n",
              "    .dataframe tbody tr th:only-of-type {\n",
              "        vertical-align: middle;\n",
              "    }\n",
              "\n",
              "    .dataframe tbody tr th {\n",
              "        vertical-align: top;\n",
              "    }\n",
              "\n",
              "    .dataframe thead th {\n",
              "        text-align: right;\n",
              "    }\n",
              "</style>\n",
              "<table border=\"1\" class=\"dataframe\">\n",
              "  <thead>\n",
              "    <tr style=\"text-align: right;\">\n",
              "      <th></th>\n",
              "      <th>id</th>\n",
              "      <th>text</th>\n",
              "      <th>isRetweet</th>\n",
              "      <th>device</th>\n",
              "      <th>favorites</th>\n",
              "      <th>retweets</th>\n",
              "      <th>date</th>\n",
              "      <th>preprocessed_text</th>\n",
              "      <th>tokenized_text</th>\n",
              "    </tr>\n",
              "  </thead>\n",
              "  <tbody>\n",
              "    <tr>\n",
              "      <th>5</th>\n",
              "      <td>1243755076214231040</td>\n",
              "      <td>Such Fake reporting by the @nytimes, @washingt...</td>\n",
              "      <td>f</td>\n",
              "      <td>Twitter for iPhone</td>\n",
              "      <td>141942</td>\n",
              "      <td>34544</td>\n",
              "      <td>2020-03-28 04:21:32</td>\n",
              "      <td>fake reporting @nytimes, @washingtonpost, @cnn...</td>\n",
              "      <td>[fake, reporting, nytimes, washingtonpost, cnn...</td>\n",
              "    </tr>\n",
              "    <tr>\n",
              "      <th>6</th>\n",
              "      <td>1270411061376815108</td>\n",
              "      <td>My decision to appoint @usairforce General Cha...</td>\n",
              "      <td>f</td>\n",
              "      <td>Twitter for iPhone</td>\n",
              "      <td>157337</td>\n",
              "      <td>37398</td>\n",
              "      <td>2020-06-09 17:42:54</td>\n",
              "      <td>decision appoint @usairforce general charles b...</td>\n",
              "      <td>[decision, appoint, usairforce, general, charl...</td>\n",
              "    </tr>\n",
              "    <tr>\n",
              "      <th>9</th>\n",
              "      <td>1304767518775611394</td>\n",
              "      <td>....It has now been determined that the Muelle...</td>\n",
              "      <td>f</td>\n",
              "      <td>Twitter for iPhone</td>\n",
              "      <td>99088</td>\n",
              "      <td>26890</td>\n",
              "      <td>2020-09-12 13:03:12</td>\n",
              "      <td>....it determined mueller scam never set first...</td>\n",
              "      <td>[it, determined, mueller, scam, never, set, fi...</td>\n",
              "    </tr>\n",
              "    <tr>\n",
              "      <th>10</th>\n",
              "      <td>1304767518112964608</td>\n",
              "      <td>ALERT: So now we find out that the entire Muel...</td>\n",
              "      <td>f</td>\n",
              "      <td>Twitter for iPhone</td>\n",
              "      <td>166505</td>\n",
              "      <td>54049</td>\n",
              "      <td>2020-09-12 13:03:12</td>\n",
              "      <td>alert: find entire mueller “hit squad” illegal...</td>\n",
              "      <td>[alert, find, entire, mueller, hit, squad, ill...</td>\n",
              "    </tr>\n",
              "    <tr>\n",
              "      <th>11</th>\n",
              "      <td>1223351951963967488</td>\n",
              "      <td>The Radical Left, Do Nothing Democrats keep ch...</td>\n",
              "      <td>f</td>\n",
              "      <td>Twitter for iPhone</td>\n",
              "      <td>183891</td>\n",
              "      <td>44015</td>\n",
              "      <td>2020-01-31 21:06:48</td>\n",
              "      <td>radical left, nothing democrats keep chanting ...</td>\n",
              "      <td>[radical, left, nothing, democrats, keep, chan...</td>\n",
              "    </tr>\n",
              "  </tbody>\n",
              "</table>\n",
              "</div>"
            ],
            "text/plain": [
              "                     id  ...                                     tokenized_text\n",
              "5   1243755076214231040  ...  [fake, reporting, nytimes, washingtonpost, cnn...\n",
              "6   1270411061376815108  ...  [decision, appoint, usairforce, general, charl...\n",
              "9   1304767518775611394  ...  [it, determined, mueller, scam, never, set, fi...\n",
              "10  1304767518112964608  ...  [alert, find, entire, mueller, hit, squad, ill...\n",
              "11  1223351951963967488  ...  [radical, left, nothing, democrats, keep, chan...\n",
              "\n",
              "[5 rows x 9 columns]"
            ]
          },
          "metadata": {
            "tags": []
          },
          "execution_count": 273
        }
      ]
    },
    {
      "cell_type": "markdown",
      "metadata": {
        "id": "YAvKtvTTCDrN"
      },
      "source": [
        "### See the words that appears the most (Optional)"
      ]
    },
    {
      "cell_type": "code",
      "metadata": {
        "id": "W0vyUtiPQdwu",
        "outputId": "d74a95d5-26eb-4230-80ea-616406769a0a",
        "colab": {
          "base_uri": "https://localhost:8080/",
          "height": 201
        }
      },
      "source": [
        "def get_most_freq_words(str, n=None):\n",
        "    vect = CountVectorizer().fit(str)\n",
        "    bag_of_words = vect.transform(str)\n",
        "    sum_words = bag_of_words.sum(axis=0)\n",
        "    freq = [(word, sum_words[0, idx]) for word, idx in vect.vocabulary_.items()]\n",
        "    freq =sorted(freq, key = lambda x: x[1], reverse=True)\n",
        "    return freq[:n]\n",
        "  \n",
        "get_most_freq_words([ word for tweet in df_tweets_clean.tokenized_text for word in tweet],10)"
      ],
      "execution_count": null,
      "outputs": [
        {
          "output_type": "execute_result",
          "data": {
            "text/plain": [
              "[('great', 3360),\n",
              " ('amp', 1959),\n",
              " ('people', 1681),\n",
              " ('president', 1600),\n",
              " ('thank', 1352),\n",
              " ('democrats', 1275),\n",
              " ('news', 1269),\n",
              " ('trump', 1252),\n",
              " ('country', 1165),\n",
              " ('fake', 1129)]"
            ]
          },
          "metadata": {
            "tags": []
          },
          "execution_count": 145
        }
      ]
    },
    {
      "cell_type": "markdown",
      "metadata": {
        "id": "q8066vmFCNqZ"
      },
      "source": [
        "### Find the best k for the topic number"
      ]
    },
    {
      "cell_type": "code",
      "metadata": {
        "id": "baQB6_q-f4er"
      },
      "source": [
        "import matplotlib.pyplot as plt\n",
        "import matplotlib.gridspec as gridspec"
      ],
      "execution_count": null,
      "outputs": []
    },
    {
      "cell_type": "code",
      "metadata": {
        "id": "p6o2xdEyVPn6",
        "outputId": "40a56223-2324-45a1-dea2-7f94f293b4fa",
        "colab": {
          "base_uri": "https://localhost:8080/",
          "height": 334
        }
      },
      "source": [
        "# build a dictionary where for each tweet, each word has its own id.\n",
        "tweets_dictionary = Dictionary(df_tweets_clean.tokenized_text)\n",
        "\n",
        "# build the corpus i.e. vectors with the number of occurence of each word per tweet\n",
        "tweets_corpus = [tweets_dictionary.doc2bow(tweet) for tweet in df_tweets_clean.tokenized_text]\n",
        "\n",
        "# compute coherence\n",
        "tweets_coherence = []\n",
        "for nb_topics in range(1,10):\n",
        "    lda = LdaModel(tweets_corpus, num_topics = nb_topics, id2word = tweets_dictionary, passes=10)\n",
        "    cohm = CoherenceModel(model=lda, corpus=tweets_corpus, dictionary=tweets_dictionary, coherence='u_mass')\n",
        "    coh = cohm.get_coherence()\n",
        "    tweets_coherence.append(coh)\n",
        "\n",
        "# visualize coherence\n",
        "plt.figure(figsize=(10,5))\n",
        "plt.plot(range(1,10),tweets_coherence)\n",
        "plt.xlabel(\"Number of Topics\")\n",
        "plt.ylabel(\"Coherence Score\");"
      ],
      "execution_count": null,
      "outputs": [
        {
          "output_type": "display_data",
          "data": {
            "image/png": "[encoded data removed]",
            "text/plain": [
              "<Figure size 720x360 with 1 Axes>"
            ]
          },
          "metadata": {
            "tags": [],
            "needs_background": "light"
          }
        }
      ]
    },
    {
      "cell_type": "markdown",
      "metadata": {
        "id": "V0ZIjrtZCTM5"
      },
      "source": [
        "### Found k == 3, train the model and show the top words in each topic"
      ]
    },
    {
      "cell_type": "code",
      "metadata": {
        "id": "MFmYMsTlkjqS",
        "outputId": "e7811f7d-88fd-4e82-fe49-f9b1b8bcc721",
        "colab": {
          "base_uri": "https://localhost:8080/",
          "height": 268
        }
      },
      "source": [
        "k = 3\n",
        "tweets_lda = LdaModel(tweets_corpus, num_topics = k, id2word = tweets_dictionary, passes=10)\n",
        "\n",
        "def plot_top_words(lda=tweets_lda, nb_topics=k, nb_words=10):\n",
        "    top_words = [[word for word,_ in lda.show_topic(topic_id, topn=50)] for topic_id in range(lda.num_topics)]\n",
        "    top_betas = [[beta for _,beta in lda.show_topic(topic_id, topn=50)] for topic_id in range(lda.num_topics)]\n",
        "\n",
        "    gs  = gridspec.GridSpec(round(math.sqrt(k))+1,round(math.sqrt(k))+1)\n",
        "    gs.update(wspace=0.5, hspace=0.5)\n",
        "    plt.figure(figsize=(20,15))\n",
        "    for i in range(nb_topics):\n",
        "        ax = plt.subplot(gs[i])\n",
        "        plt.barh(range(nb_words), top_betas[i][:nb_words], align='center',color='blue', ecolor='black')\n",
        "        ax.invert_yaxis()\n",
        "        ax.set_yticks(range(nb_words))\n",
        "        ax.set_yticklabels(top_words[i][:nb_words])\n",
        "        plt.title(\"Topic \"+str(i))\n",
        "        \n",
        "  \n",
        "plot_top_words()"
      ],
      "execution_count": null,
      "outputs": [
        {
          "output_type": "display_data",
          "data": {
            "image/png": "[encoded data removed]",
            "text/plain": [
              "<Figure size 1440x1080 with 3 Axes>"
            ]
          },
          "metadata": {
            "tags": [],
            "needs_background": "light"
          }
        }
      ]
    },
    {
      "cell_type": "markdown",
      "metadata": {
        "id": "H8rQLy_FCfJo"
      },
      "source": [
        "### Create a new dataframe for outputting the data with intents"
      ]
    },
    {
      "cell_type": "code",
      "metadata": {
        "id": "WWZYCw0M7GMj"
      },
      "source": [
        "new_df = df_tweets_clean.drop(['preprocessed_text', 'tokenized_text'], axis=1)"
      ],
      "execution_count": null,
      "outputs": []
    },
    {
      "cell_type": "markdown",
      "metadata": {
        "id": "UZ8ruggU_ySM"
      },
      "source": [
        "### Predict intent of each tweet"
      ]
    },
    {
      "cell_type": "code",
      "metadata": {
        "id": "CKe5lXDr8tCQ"
      },
      "source": [
        "intents = []\n",
        "tpv = tweets_lda[tweets_corpus]\n",
        "for tweet in tpv:\n",
        "    t0p = 0\n",
        "    t1p = 0\n",
        "    t2p = 0\n",
        "    for topic in tweet:\n",
        "        if topic[0] == 0:\n",
        "            t0p = topic[1]\n",
        "        if topic[0] == 1:\n",
        "            t1p = topic[1]\n",
        "        if topic[0] == 2:\n",
        "            t2p = topic[1]\n",
        "    mp = max(t0p, t1p, t2p)\n",
        "    # Topics here are defined according to the top words in each topic\n",
        "    if t0p == mp:\n",
        "        intents.append(\"Diplomacy\")\n",
        "    elif t1p == mp:\n",
        "        intents.append(\"News report\")\n",
        "    elif t2p == mp:\n",
        "        intents.append(\"Appreciation\")"
      ],
      "execution_count": null,
      "outputs": []
    },
    {
      "cell_type": "markdown",
      "metadata": {
        "id": "rz8R90D5C9dd"
      },
      "source": [
        "Add the intent back to the original data"
      ]
    },
    {
      "cell_type": "code",
      "metadata": {
        "id": "j5H0JB0Y9JGG",
        "outputId": "e842f0a1-4000-4d6a-d3de-b57f64eb2070",
        "colab": {
          "base_uri": "https://localhost:8080/",
          "height": 206
        }
      },
      "source": [
        "new_df['intent'] = intents\n",
        "new_df.head()"
      ],
      "execution_count": null,
      "outputs": [
        {
          "output_type": "execute_result",
          "data": {
            "text/html": [
              "<div>\n",
              "<style scoped>\n",
              "    .dataframe tbody tr th:only-of-type {\n",
              "        vertical-align: middle;\n",
              "    }\n",
              "\n",
              "    .dataframe tbody tr th {\n",
              "        vertical-align: top;\n",
              "    }\n",
              "\n",
              "    .dataframe thead th {\n",
              "        text-align: right;\n",
              "    }\n",
              "</style>\n",
              "<table border=\"1\" class=\"dataframe\">\n",
              "  <thead>\n",
              "    <tr style=\"text-align: right;\">\n",
              "      <th></th>\n",
              "      <th>id</th>\n",
              "      <th>text</th>\n",
              "      <th>isRetweet</th>\n",
              "      <th>device</th>\n",
              "      <th>favorites</th>\n",
              "      <th>retweets</th>\n",
              "      <th>date</th>\n",
              "      <th>intent</th>\n",
              "    </tr>\n",
              "  </thead>\n",
              "  <tbody>\n",
              "    <tr>\n",
              "      <th>5</th>\n",
              "      <td>1243755076214231040</td>\n",
              "      <td>Such Fake reporting by the @nytimes, @washingt...</td>\n",
              "      <td>f</td>\n",
              "      <td>Twitter for iPhone</td>\n",
              "      <td>141942</td>\n",
              "      <td>34544</td>\n",
              "      <td>2020-03-28 04:21:32</td>\n",
              "      <td>News report</td>\n",
              "    </tr>\n",
              "    <tr>\n",
              "      <th>6</th>\n",
              "      <td>1270411061376815108</td>\n",
              "      <td>My decision to appoint @usairforce General Cha...</td>\n",
              "      <td>f</td>\n",
              "      <td>Twitter for iPhone</td>\n",
              "      <td>157337</td>\n",
              "      <td>37398</td>\n",
              "      <td>2020-06-09 17:42:54</td>\n",
              "      <td>Appreciation</td>\n",
              "    </tr>\n",
              "    <tr>\n",
              "      <th>9</th>\n",
              "      <td>1304767518775611394</td>\n",
              "      <td>....It has now been determined that the Muelle...</td>\n",
              "      <td>f</td>\n",
              "      <td>Twitter for iPhone</td>\n",
              "      <td>99088</td>\n",
              "      <td>26890</td>\n",
              "      <td>2020-09-12 13:03:12</td>\n",
              "      <td>News report</td>\n",
              "    </tr>\n",
              "    <tr>\n",
              "      <th>10</th>\n",
              "      <td>1304767518112964608</td>\n",
              "      <td>ALERT: So now we find out that the entire Muel...</td>\n",
              "      <td>f</td>\n",
              "      <td>Twitter for iPhone</td>\n",
              "      <td>166505</td>\n",
              "      <td>54049</td>\n",
              "      <td>2020-09-12 13:03:12</td>\n",
              "      <td>News report</td>\n",
              "    </tr>\n",
              "    <tr>\n",
              "      <th>11</th>\n",
              "      <td>1223351951963967488</td>\n",
              "      <td>The Radical Left, Do Nothing Democrats keep ch...</td>\n",
              "      <td>f</td>\n",
              "      <td>Twitter for iPhone</td>\n",
              "      <td>183891</td>\n",
              "      <td>44015</td>\n",
              "      <td>2020-01-31 21:06:48</td>\n",
              "      <td>News report</td>\n",
              "    </tr>\n",
              "  </tbody>\n",
              "</table>\n",
              "</div>"
            ],
            "text/plain": [
              "                     id  ...        intent\n",
              "5   1243755076214231040  ...   News report\n",
              "6   1270411061376815108  ...  Appreciation\n",
              "9   1304767518775611394  ...   News report\n",
              "10  1304767518112964608  ...   News report\n",
              "11  1223351951963967488  ...   News report\n",
              "\n",
              "[5 rows x 8 columns]"
            ]
          },
          "metadata": {
            "tags": []
          },
          "execution_count": 276
        }
      ]
    },
    {
      "cell_type": "markdown",
      "metadata": {
        "id": "_qjCMGF3DDFB"
      },
      "source": [
        "### Save the new dataset"
      ]
    },
    {
      "cell_type": "code",
      "metadata": {
        "id": "MtwqVMl5DJsY"
      },
      "source": [
        "new_df.to_csv('tweets_10-17-2020-with-intents.csv', index=True)"
      ],
      "execution_count": null,
      "outputs": []
    },
    {
      "cell_type": "markdown",
      "metadata": {
        "id": "ZgceU_kZJ_so"
      },
      "source": [
        "### References:\n",
        "\n",
        "https://towardsdatascience.com/topic-modeling-with-latent-dirichlet-allocation-by-example-3b22cd10c835\n",
        "\n",
        "https://stackoverflow.com/questions/16262016/how-to-predict-the-topic-of-a-new-query-using-a-trained-lda-model-using-gensim\n"
      ]
    }
  ]
}