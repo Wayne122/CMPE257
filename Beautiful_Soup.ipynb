{
  "nbformat": 4,
  "nbformat_minor": 0,
  "metadata": {
    "colab": {
      "name": "CMPE257_Beautiful_Soup.ipynb",
      "provenance": [],
      "collapsed_sections": [],
      "authorship_tag": "ABX9TyO0juzwcxtuEINCd+MER/mM",
      "include_colab_link": true
    },
    "kernelspec": {
      "name": "python3",
      "display_name": "Python 3"
    }
  },
  "cells": [
    {
      "cell_type": "markdown",
      "metadata": {
        "id": "view-in-github",
        "colab_type": "text"
      },
      "source": [
        "<a href=\"https://colab.research.google.com/github/Wayne122/CMPE257/blob/main/Beautiful_Soup.ipynb\" target=\"_parent\"><img src=\"https://colab.research.google.com/assets/colab-badge.svg\" alt=\"Open In Colab\"/></a>"
      ]
    },
    {
      "cell_type": "markdown",
      "metadata": {
        "id": "l4vqeFBKHpVQ"
      },
      "source": [
        "# CMPE257 Beautiful Soup"
      ]
    },
    {
      "cell_type": "markdown",
      "metadata": {
        "id": "JLYhzGYlHwCj"
      },
      "source": [
        "Because we couldn't find any data related to our project datasets for us to scrape, we decided to just find any data to scrape to show that we do know how to scrape data from websites."
      ]
    },
    {
      "cell_type": "code",
      "metadata": {
        "id": "PQNce0IwI59t",
        "outputId": "687d3b9e-0739-40da-fe0e-95ed17d5c249",
        "colab": {
          "base_uri": "https://localhost:8080/",
          "height": 55
        }
      },
      "source": [
        "from bs4 import BeautifulSoup\n",
        "import requests\n",
        "\n",
        "source = requests.get('https://www.ebay.com/p/22030648481?iid=224193439048').text\n",
        "\n",
        "soup = BeautifulSoup(source, 'lxml')\n",
        "\n",
        "# print(soup.prettify())\n",
        "\n",
        "reviews = soup.find_all('li', class_='review--section')\n",
        "\n",
        "records = []\n",
        "\n",
        "for review in reviews:\n",
        "    author_info = review.find('div', class_='review--section--l')\n",
        "\n",
        "    stars = author_info.div.text\n",
        "\n",
        "    author = author_info.a.text\n",
        "\n",
        "    date_time = author_info.find('span', class_='review--date').text\n",
        "\n",
        "    title_content = review.find('div', class_='review--section--r')\n",
        "\n",
        "    title = title_content.h4.text\n",
        "\n",
        "    content = title_content.p.text\n",
        "\n",
        "    records.append({'stars':stars, 'author':author, 'date_time':date_time, 'title':title, 'content':content})\n",
        "\n",
        "print(records)"
      ],
      "execution_count": null,
      "outputs": [
        {
          "output_type": "stream",
          "text": [
            "[{'stars': '5 out of 5 stars', 'author': 'mangosnapper35', 'date_time': 'Dec 11, 2019', 'title': 'Better than expected with great new features over plug in versions', 'content': 'Replaced my non-Bluetooth Bose headphones with these and am thrilled to not be on a \"leash\" anymore. I don\\'t really notice improved sound quality the convenience of not having to plug them in is totally worth the price to upgrade.\\n\\nThey are slightly more bulky but still remain very comfortable to wear. One nice thing is the ability to change or turn off the noise cancelling option as sometime you to be able to hear a phone ring or someone speaking to you.\\n\\nI had noticed some having an issue using Iphones with them but they have worked flawlessly with all my devices including iPhone 10, Ipad pro, and my Windows 10 desktop.\\n\\nI did lots of research online as well as testing all major brands in stores. There is cheaper options out there but none that performed better.'}, {'stars': '3 out of 5 stars', 'author': 'sama1000', 'date_time': 'Apr 08, 2020', 'title': 'Good Product but not German Made', 'content': 'The product is good, comfortable, feels well made, stores nicely and sounds great. I only have one  strong issue against it. With the name Bose and for the price, I was expecting it to be made in Germany. I was disappointed to find out it was Made in China. Had it been made in Germany I would have given it 5 stars.'}, {'stars': '5 out of 5 stars', 'author': 'montgomk63', 'date_time': 'Oct 02, 2019', 'title': 'Great sound, great comfort', 'content': 'Number 1: the sound quality is phenomenal. Number 2: the noise cancelling feature lets you hear the sound instead of the background noise. Number 3: these are the most comfortable headphones I have ever worn. The ear cups fit snuggly around the ear to block external noise. The space inside the ear cup is extra wide, tall and deep to accommodate my ears which stick out. They are expensive. I tried cheaper headphones which sounded great but bent my ears so were painful to wear for any length of time. To me, long-wearing comfort was worth paying a bit more.  So find a good deal and enjoy great sound for long periods of time.'}, {'stars': '5 out of 5 stars', 'author': 'and3785', 'date_time': 'Jan 21, 2020', 'title': 'High quality sound', 'content': 'These have awesome sound quality. When they were brand new the sound quality was horrible. After listening to them for a week the sound cleared up and the sound is extremely good. I also own the sony 1000mx3 noise cancelling headphones and i like the bose better. The bose headphones are also more comfortable and the noise  cancelling is a tad bit better. I also prefer the physical buttons over the swiping on the sony wh-1000mx3. However the sony headphones have more bass. The bose app does not have an equalizer. The sony app has an equalizer with bass boost.'}, {'stars': '5 out of 5 stars', 'author': 'guruking65_5', 'date_time': 'Feb 26, 2020', 'title': 'Absolutely Worth it!!!!', 'content': 'ordered them a couple of days ago and i fell in love. these headphones offer superior noise canceling and just the right amount of bass. i got mines open box so they were relatively brand newish. What made this even better was that i bought them for 1/3 of the price. What a steal of a deal!!!!'}]\n"
          ],
          "name": "stdout"
        }
      ]
    }
  ]
}